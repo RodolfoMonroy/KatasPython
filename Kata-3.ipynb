{
 "cells": [
  {
   "cell_type": "markdown",
   "metadata": {},
   "source": [
    "EJERCICIO 1\n",
    "Para este ejercicio, escribirás una lógica condicional que imprima una advertencia si un asteroide se acerca a la Tierra demasiado rápido. La velocidad del asteroide varía dependiendo de lo cerca que esté del sol, y cualquier velocidad superior a 25 kilómetros por segundo (km/s) merece una advertencia.\n",
    "Un asteroide se acerca, y viaja a una velocidad de 49 km/s."
   ]
  },
  {
   "cell_type": "code",
   "execution_count": 18,
   "metadata": {},
   "outputs": [
    {
     "name": "stdout",
     "output_type": "stream",
     "text": [
      "Bienvenido al programa de advertencia contra meteoritos\n",
      "Un gusto haberte conocido :( \n"
     ]
    }
   ],
   "source": [
    "print(\"Bienvenido al programa de advertencia contra meteoritos\")\n",
    "velocidad_asteroide = input(\"Introduzca velocidad de meteorito\")\n",
    "velocidad_asteroide = int(velocidad_asteroide)\n",
    "limite=25\n",
    "if velocidad_asteroide < limite:\n",
    "    print(\"El asteroide no causará daños\")\n",
    "else:\n",
    "    print(\"Un gusto haberte conocido :( \")"
   ]
  },
  {
   "cell_type": "markdown",
   "metadata": {},
   "source": [
    "EJERCICIO 2\n",
    "# Agrega el código para crear una variable para un asteroide que viaja a 19 km/s\n",
    "# Escribe varias expresiones de prueba para determinar si puedes ver el rayo de luz desde la tierra\n",
    "# Agrega las instrucciones que se ejecutarán si las expresiones de prueba son True o False"
   ]
  },
  {
   "cell_type": "code",
   "execution_count": 21,
   "metadata": {},
   "outputs": [
    {
     "name": "stdout",
     "output_type": "stream",
     "text": [
      "Bienvenido al programa de avistamiento de meteoritos\n",
      "No se puede ver nada, a mimir\n"
     ]
    }
   ],
   "source": [
    "print(\"Bienvenido al programa de avistamiento de meteoritos\")\n",
    "velocidad_asteroide = input(\"Introduzca velocidad de meteorito\")\n",
    "velocidad_asteroide = int(velocidad_asteroide)\n",
    "limite=19\n",
    "if velocidad_asteroide > limite:\n",
    "    print(\"Sal a ver el espectaculo de luz\")\n",
    "elif velocidad_asteroide == limite:\n",
    "    print(\"Sal a ver el espectaculo de luz\")\n",
    "else:\n",
    "    print(\"No se puede ver nada, a mimir\")\n"
   ]
  },
  {
   "cell_type": "markdown",
   "metadata": {},
   "source": [
    "EJERCICIO 3\n",
    "Los asteroides de menos de 25 metros en su dimensión más grande probablemente se quemarán a medida que entren en la atmósfera de la Tierra.\n",
    "Si una pieza de un asteroide que es más grande que 25 metros pero más pequeña que 1000 metros golpeara la Tierra, causaría mucho daño.\n",
    "La velocidad del asteroide varía en función de lo cerca que esté del sol, y cualquier velocidad superior a 25 kilómetros por segundo (km/s) merece una advertencia.\n",
    "Si un asteroide entra en la atmósfera de la Tierra a una velocidad mayor o igual a 20 km/s, a veces produce un rayo de luz que se puede ver desde la Tierra.\n",
    "\n",
    "# Agrega el código para crear nuevas variables para la velocidad y el tamaño del asteroide\n",
    "# Para probar el código, prueba con varias velocidades y tamaños\n",
    "# Escribe varias expresiones de prueba o combinaciones de expresiones de prueba para determinar qué mensaje se debe enviar a Tierra"
   ]
  },
  {
   "cell_type": "code",
   "execution_count": 26,
   "metadata": {},
   "outputs": [
    {
     "name": "stdout",
     "output_type": "stream",
     "text": [
      "Bienvenido al programa de advertencia contra asteroide\n",
      "Un gusto haberte conocido :( \n"
     ]
    }
   ],
   "source": [
    "print(\"Bienvenido al programa de advertencia contra asteroide\")\n",
    "velocidad_asteroide = input(\"Introduzca velocidad de asteroide\")\n",
    "velocidad_asteroide = int(velocidad_asteroide)\n",
    "tam_asteroide = input(\"Introduzca el tamaño del asteroide\")\n",
    "tam_asteroide = int(tam_asteroide)\n",
    "limite_vel=25\n",
    "limite_tam=25\n",
    "if velocidad_asteroide > limite_vel and tam_asteroide > limite_tam:\n",
    "    print(\"Un gusto haberte conocido :( \") \n",
    "elif velocidad_asteroide > limite_vel and tam_asteroide < limite_tam:\n",
    "    print(\"Sal a ver el espectaculo de luz\")\n",
    "else:\n",
    "    print(\"El asteroide no se verá\")\n"
   ]
  }
 ],
 "metadata": {
  "interpreter": {
   "hash": "aee8b7b246df8f9039afb4144a1f6fd8d2ca17a180786b69acc140d282b71a49"
  },
  "kernelspec": {
   "display_name": "Python 3.10.2 64-bit",
   "language": "python",
   "name": "python3"
  },
  "language_info": {
   "codemirror_mode": {
    "name": "ipython",
    "version": 3
   },
   "file_extension": ".py",
   "mimetype": "text/x-python",
   "name": "python",
   "nbconvert_exporter": "python",
   "pygments_lexer": "ipython3",
   "version": "3.10.2"
  },
  "orig_nbformat": 4
 },
 "nbformat": 4,
 "nbformat_minor": 2
}
